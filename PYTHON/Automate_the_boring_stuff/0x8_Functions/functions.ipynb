{
 "cells": [
  {
   "cell_type": "markdown",
   "metadata": {},
   "source": [
    "### Examples (Passing Arguments to a function)"
   ]
  },
  {
   "cell_type": "code",
   "execution_count": null,
   "metadata": {},
   "outputs": [],
   "source": [
    "def greet_user(username):\n",
    "    \"\"\"Display simple greeting.\"\"\"\n",
    "    print(f\"Hello, {username.title()}!\")\n",
    "\n",
    "# Ask the user for their name\n",
    "name = input(\"What's your name?: \")\n",
    "# Call the function and pass it the name variable.\n",
    "greet_user(name)"
   ]
  },
  {
   "cell_type": "markdown",
   "metadata": {},
   "source": [
    "### Exercises"
   ]
  },
  {
   "cell_type": "code",
   "execution_count": null,
   "metadata": {},
   "outputs": [],
   "source": [
    "def display_message():\n",
    "    \"\"\"Display a message telling what you're learning about in this chapter.\"\"\"\n",
    "    print(\"Hello World!, \\nI'm learning about Functions in Python, \\nand it's super fun!!!.\")\n",
    "\n",
    "# Call the function.\n",
    "display_message()"
   ]
  },
  {
   "cell_type": "code",
   "execution_count": null,
   "metadata": {},
   "outputs": [],
   "source": [
    "def favorite_book(title):\n",
    "    \"\"\"Display the title of one of the users favorite books\"\"\"\n",
    "    print(f\"One of my favorite books is {title.title()}.\")\n",
    "\n",
    "# Ask the user what their favorite book is.\n",
    "book_name = input(\"What's the name of your favorite book?: \")\n",
    "# Call the function and pass it the book_name variable.\n",
    "favorite_book(book_name)"
   ]
  },
  {
   "cell_type": "markdown",
   "metadata": {},
   "source": [
    "### Examples (Positional Arguments)"
   ]
  },
  {
   "cell_type": "code",
   "execution_count": null,
   "metadata": {},
   "outputs": [],
   "source": [
    "def describe_pet(animal_type, pet_name):\n",
    "    \"\"\"Display information about a pet.\"\"\"\n",
    "    print(f\"\\nI have a {animal_type}.\")\n",
    "    print(f\"My {animal_type}'s name is {pet_name.title()}.\")\n",
    "\n",
    "#describe_pet(\"dog\", \"willie\")\n",
    "    \n",
    "# Ask the user for their pet type and it's name.\n",
    "pet_type = input(\"What type of pet do you have?: \")\n",
    "pet_name = input(\"Wow! Nice.\\nWhat is it's name?: \")\n",
    "# Call the function and pass it the respective variables.\n",
    "describe_pet(pet_type, pet_name)"
   ]
  },
  {
   "cell_type": "markdown",
   "metadata": {},
   "source": [
    "### Examples (Keyword Arguments)"
   ]
  },
  {
   "cell_type": "code",
   "execution_count": null,
   "metadata": {},
   "outputs": [],
   "source": [
    "def describe_pet(animal_type, pet_name):\n",
    "    \"\"\"Display information about a pet.\"\"\"\n",
    "    print(f\"\\nI have a {animal_type}.\")\n",
    "    print(f\"My {animal_type}'s name is {pet_name.title()}.\")\n",
    "\n",
    "#describe_pet(animal_type='cat', pet_name='tiger')\n",
    "\n",
    "# Ask the user for their pet type and it's name.\n",
    "pet_type = input(\"What type of pet do you have?: \")\n",
    "pet_name = input(\"Wow! Nice.\\nWhat is it's name?: \")\n",
    "# Call the function and pass it the respective variables.\n",
    "describe_pet(animal_type=pet_type, pet_name=pet_name)\n",
    "describe_pet(pet_name=pet_name, animal_type=pet_type)"
   ]
  },
  {
   "cell_type": "markdown",
   "metadata": {},
   "source": [
    "### Examples (Default Values)"
   ]
  },
  {
   "cell_type": "code",
   "execution_count": null,
   "metadata": {},
   "outputs": [],
   "source": [
    "def describe_pet(pet_name, animal_type='dog'):\n",
    "    \"\"\"Display information about a pet.\"\"\"\n",
    "    print(f\"\\nI have a {animal_type}.\")\n",
    "    print(f\"My {animal_type}'s name is {pet_name.title()}.\")\n",
    "\n",
    "#describe_pet(animal_type='cat', pet_name='tiger')\n",
    "\n",
    "# Ask the user for their pet type and it's name.\n",
    "pet_type = input(\"What type of pet do you have?: \")\n",
    "pet_name = input(\"Wow! Nice.\\nWhat is it's name?: \")\n",
    "# Call the function and pass it the respective variables.\n",
    "describe_pet(pet_name=pet_name)\n",
    "describe_pet('krakon', 'dragon')"
   ]
  },
  {
   "cell_type": "markdown",
   "metadata": {},
   "source": [
    "### Exercises"
   ]
  },
  {
   "cell_type": "code",
   "execution_count": null,
   "metadata": {},
   "outputs": [],
   "source": [
    "def make_shirt(size, message):\n",
    "    \"\"\"Display a sentence summarizing the size of the shirt and the message printed on it.\"\"\"\n",
    "    print(f\"This is a {size.upper()} size shirt,\\nand it has the message '{message.title()}' printed on it.\")\n",
    "\n",
    "# make_shirt('l', \"I'm a professional\")\n",
    "# make_shirt(message=\"devil may cry \", size='m')\n",
    "\n",
    "# Ask the user what size of shirt they want.\n",
    "shirt_size = input(\"What size of shirt would you prefer?(L,M,S): \")\n",
    "# Ask the user what message their want printed on the shirt.\n",
    "shirt_message = input(\"What would you like printed on the shirt?: \")\n",
    "\n",
    "# Call the function and pass the respective variables as the arguments.\n",
    "make_shirt(size=shirt_size, message=shirt_message)"
   ]
  },
  {
   "cell_type": "code",
   "execution_count": null,
   "metadata": {},
   "outputs": [],
   "source": [
    "def make_shirt(size='L', message='I love Python'):\n",
    "    \"\"\"Display a sentence summarizing the size of the shirt and the message printed on it.\"\"\"\n",
    "    print(f\"This is a {size.upper()} size shirt,\\nand it has the message '{message.title()}' printed on it.\")\n",
    "\n",
    "make_shirt()\n",
    "make_shirt('m')\n",
    "make_shirt(message=\"devil may cry \", size='s')"
   ]
  },
  {
   "cell_type": "code",
   "execution_count": null,
   "metadata": {},
   "outputs": [],
   "source": [
    "def describe_city(city, country='Nigeria'):\n",
    "    \"\"\"Display a message telling which country the city is in.\"\"\"\n",
    "    print(f\"{city.title()} is in {country}.\")\n",
    "\n",
    "describe_city('Lagos')\n",
    "describe_city(city='Abuja')\n",
    "describe_city(city='Texas')"
   ]
  },
  {
   "cell_type": "markdown",
   "metadata": {},
   "source": [
    "### Examples (Return Values(Returning a Simple Value))"
   ]
  },
  {
   "cell_type": "code",
   "execution_count": null,
   "metadata": {},
   "outputs": [],
   "source": [
    "def get_formatted_name(first_name, last_name):\n",
    "    \"\"\"Return a full name, neatly formatted.\"\"\"\n",
    "    full_name = f\"{first_name} {last_name}\"\n",
    "    return full_name.title()\n",
    "\n",
    "musician = get_formatted_name('michael', 'jackson')\n",
    "print(musician)"
   ]
  },
  {
   "cell_type": "markdown",
   "metadata": {},
   "source": [
    "### Examples (Making an Argument Optional)"
   ]
  },
  {
   "cell_type": "code",
   "execution_count": null,
   "metadata": {},
   "outputs": [],
   "source": [
    "def get_formatted_name(first_name, last_name, middle_name=''):\n",
    "    \"\"\"Return a full name, neatly formatted.\"\"\"\n",
    "    full_name = f\"{first_name} {middle_name} {last_name}\"\n",
    "    return full_name.title()\n",
    "\n",
    "musician = get_formatted_name('michael', 'jackson')\n",
    "print(musician)\n",
    "Musician = get_formatted_name('michael', 'jackson', 'el')\n",
    "print(Musician)"
   ]
  },
  {
   "cell_type": "markdown",
   "metadata": {},
   "source": [
    "### Examples (Returning a Dictionary)"
   ]
  },
  {
   "cell_type": "code",
   "execution_count": null,
   "metadata": {},
   "outputs": [],
   "source": [
    "def build_person(first_name, last_name, age='', sex='', race=''):\n",
    "    \"\"\"Return a dictionary of information about a person.\"\"\"\n",
    "    person = {'first': first_name, 'last': last_name}\n",
    "    if age:\n",
    "        person['age'] = age\n",
    "    if race:\n",
    "        person['race'] = race\n",
    "    if sex:\n",
    "        person['sex'] = sex\n",
    "    return person\n",
    "\n",
    "musician = build_person('Michael', 'Jackson', race='Black', age=60, sex='male')\n",
    "print(musician)"
   ]
  },
  {
   "cell_type": "markdown",
   "metadata": {},
   "source": [
    "### Examples (Using a Function with a While Loop)"
   ]
  },
  {
   "cell_type": "code",
   "execution_count": null,
   "metadata": {},
   "outputs": [],
   "source": [
    "\"\"\"Using the get_formatted_name in a while loop\"\"\"\n",
    "\n",
    "while True:\n",
    "    print(\"\\nPlease tell me your name:\")\n",
    "    print(\"[Enter 'q' at any time to quit]\")\n",
    "    \n",
    "    f_name = input(\"First name: \")\n",
    "    if f_name == 'q':\n",
    "        break\n",
    "    \n",
    "    l_name = input(\"Last name: \")\n",
    "    if l_name == 'q':\n",
    "        break\n",
    "    \n",
    "    name = get_formatted_name(f_name, l_name)\n",
    "    print(f\"\\nHello, {name}\")"
   ]
  },
  {
   "cell_type": "markdown",
   "metadata": {},
   "source": [
    "### Exercises"
   ]
  },
  {
   "cell_type": "code",
   "execution_count": null,
   "metadata": {},
   "outputs": [],
   "source": [
    "def city_country(city, country):\n",
    "    \"\"\"Return a string formatted \"city, country\" pair\"\"\"\n",
    "    pair = f'\"{city}, {country}\"'\n",
    "    return pair.title()\n",
    "\n",
    "city_pairs = [city_country('lagos', 'nigeria'),\n",
    "            city_country('abuja', 'nigeria'),\n",
    "            city_country('koggi', 'nigeria')]\n",
    "for i, city_pair in enumerate(city_pairs, start=1):\n",
    "    print(f\"{i}: {city_pair}\")"
   ]
  },
  {
   "cell_type": "code",
   "execution_count": null,
   "metadata": {},
   "outputs": [],
   "source": [
    "def make_album(artist_name, album_title, songs=''):\n",
    "    \"\"\"Return a dictionary contain the album information.\"\"\"\n",
    "    album_info = {'Artist': artist_name, 'Album title': album_title}\n",
    "    if songs:\n",
    "        album_info['Number of songs'] = songs\n",
    "\n",
    "    return album_info\n",
    "\n",
    "# albums = [make_album(artist_name='Young Thug', album_title='Slime Season 1'),\n",
    "#         make_album(artist_name='Erigga', album_title='The Lost Boy', songs=15),\n",
    "#         make_album(artist_name='Crown The Empire', album_title='Retrograde')]\n",
    "\n",
    "# for i, album in enumerate(albums, start=1):\n",
    "#     print(f\"{i}: {album}\")\n",
    "\n",
    "while True:\n",
    "    print(\"\\nEnter Album Details:\")\n",
    "    print(\"[Enter 'q' to quit at any point]\\n\")\n",
    "    \n",
    "    artist_name = input(\"Enter the artist's name: \")\n",
    "    if artist_name == 'q':\n",
    "        break\n",
    "\n",
    "    album_title = input(\"Enter the album title: \")\n",
    "    if album_title == 'q':\n",
    "        break\n",
    "\n",
    "    album = make_album(artist_name=artist_name, album_title=album_title)\n",
    "    print(album)"
   ]
  },
  {
   "cell_type": "markdown",
   "metadata": {},
   "source": [
    "### Examples (Passing a List)"
   ]
  },
  {
   "cell_type": "code",
   "execution_count": null,
   "metadata": {},
   "outputs": [],
   "source": [
    "def greet_users(names):\n",
    "    \"\"\"Print a simple greeting to each user in the list\"\"\"\n",
    "    for name in names:\n",
    "        msg = f\"Hello, {name.title()}!\"\n",
    "        print(msg)\n",
    "\n",
    "usernames = ['john', 'jack', 'joe']\n",
    "greet_users(usernames)"
   ]
  },
  {
   "cell_type": "markdown",
   "metadata": {},
   "source": [
    "### Examples (Modifying a List in a Function)"
   ]
  },
  {
   "cell_type": "code",
   "execution_count": null,
   "metadata": {},
   "outputs": [],
   "source": [
    "def print_models(unprinted_designs, completed_models):\n",
    "\n",
    "    # Simulate printing each design until none are left.\n",
    "    # Move each design to completed_design after printing.\n",
    "    while unprinted_designs:\n",
    "        current_design = unprinted_designs.pop()\n",
    "        # Simulate creating a 3D print from the design.\n",
    "        print(f\"Printing model: {current_design}\")\n",
    "        completed_models.append(current_design)\n",
    "\n",
    "def show_completed_models(completed_models):\n",
    "    # Display all completed models.\n",
    "    print(\"\\nThe following models have been printed:\")\n",
    "    for i, completed_model in enumerate(completed_models, start=1):\n",
    "        print(f\"{i}: {completed_model}\")\n",
    "\n",
    "\n",
    "# Designs that needs to be printed.\n",
    "unprinted_designs = ['iPhone case', 'robot pendant', 'dodecahedron']\n",
    "# List of completed designs.\n",
    "completed_models = []\n",
    "\n",
    "# Call the Functions and pass the necessary arguments\n",
    "print_models(unprinted_designs=unprinted_designs, completed_models=completed_models)\n",
    "show_completed_models(completed_models=completed_models)"
   ]
  },
  {
   "cell_type": "markdown",
   "metadata": {},
   "source": [
    "### Exercises"
   ]
  },
  {
   "cell_type": "code",
   "execution_count": null,
   "metadata": {},
   "outputs": [],
   "source": [
    "def show_magicians(magicians):\n",
    "    \"\"\"Display a list of magicians.\"\"\"\n",
    "    for i, magician in enumerate(magicians, start=1):\n",
    "        print(f\"{i}: {magician}\")\n",
    "\n",
    "def make_great(magicians, great):\n",
    "    \"\"\"Upgrade the magicians by prefixing 'the Great' to their names.\"\"\"\n",
    "    while magicians:\n",
    "        upgrading = magicians.pop()\n",
    "        great_magician = f\"the Great {upgrading}\"\n",
    "        great.append(great_magician)\n",
    "    \n",
    "\n",
    "\n",
    "# List of magicians\n",
    "magicians = ['John', 'Joe', 'Jack', 'Jeff']\n",
    "great = []\n",
    "# Call the Function and pass the required argument\n",
    "#show_magicians(magicians=magicians)\n",
    "make_great(magicians=magicians[:], great=great)\n",
    "show_magicians(magicians=magicians)\n",
    "show_magicians(magicians=great)\n",
    "print(great)\n",
    "print(magicians)"
   ]
  },
  {
   "cell_type": "markdown",
   "metadata": {},
   "source": [
    "### Examples (Passing an Arbitrary Number of Arguments)"
   ]
  },
  {
   "cell_type": "code",
   "execution_count": null,
   "metadata": {},
   "outputs": [],
   "source": [
    "def make_pizza(*toppings):\n",
    "    \"\"\"Print the list of toppings that have been requested.\"\"\"\n",
    "    print(toppings)\n",
    "\n",
    "make_pizza('pepperoni')\n",
    "make_pizza('mushrooms', 'green peppers', 'extra cheese')"
   ]
  },
  {
   "cell_type": "code",
   "execution_count": null,
   "metadata": {},
   "outputs": [],
   "source": [
    "def make_pizza(*toppings):\n",
    "    \"\"\"Summarize the pizza we are about to make.\"\"\"\n",
    "    print(\"\\nMaking a pizza with the following toppings:\")\n",
    "    for i, topping in enumerate(toppings, start=1):\n",
    "        print(f\"{i}: {topping}\")\n",
    "\n",
    "make_pizza('pepperoni')\n",
    "make_pizza('mushrooms', 'green peppers', 'extra cheese')"
   ]
  },
  {
   "cell_type": "markdown",
   "metadata": {},
   "source": [
    "### Examples (Mixing Positional and Arbitrary Arguments)"
   ]
  },
  {
   "cell_type": "code",
   "execution_count": null,
   "metadata": {},
   "outputs": [],
   "source": [
    "def make_pizza(size, *toppings):\n",
    "    \"\"\"Summarize the pizza we are about to make.\"\"\"\n",
    "    print(f\"\\nMaking a {size}-inch pizza with the following toppings:\")\n",
    "    for i, topping in enumerate(toppings, start=1):\n",
    "        print(f\"{i}: {topping}\")\n",
    "\n",
    "\n",
    "make_pizza(16, 'pepperoni')\n",
    "make_pizza(12, 'mushrooms', 'green peppers', 'extra cheese')"
   ]
  },
  {
   "cell_type": "markdown",
   "metadata": {},
   "source": [
    "### Examples (Using Arbitrary Keyword Arguments)"
   ]
  },
  {
   "cell_type": "code",
   "execution_count": null,
   "metadata": {},
   "outputs": [],
   "source": [
    "def build_profile(first, last, **user_info):\n",
    "    \"\"\"Build a dictionary containing everything we know about a user.\"\"\"\n",
    "    profile = {}\n",
    "    profile['first_name'] = first\n",
    "    profile['last_name'] = last\n",
    "    for key, value in user_info.items():\n",
    "        profile[key] = value\n",
    "    return profile\n",
    "\n",
    "user_profile = build_profile('albert', 'einstein',\n",
    "                            location='princeton',\n",
    "                            field='physics')\n",
    "print(user_profile)"
   ]
  },
  {
   "cell_type": "markdown",
   "metadata": {},
   "source": [
    "### Exercises"
   ]
  },
  {
   "cell_type": "code",
   "execution_count": null,
   "metadata": {},
   "outputs": [],
   "source": [
    "def make_sandwich(*items):\n",
    "    \"\"\"Summarize the sandwich that is being ordered.\"\"\"\n",
    "    print(f\"\\nMaking sandwich with the following items:\")\n",
    "    for i, item in enumerate(items, start=1):\n",
    "        print(f\"{i}: {item}\")\n",
    "\n",
    "make_sandwich('green pepper', 'butter', 'cheese', 'eggs')\n",
    "make_sandwich('jam', 'cream', 'peanut butter')\n",
    "make_sandwich('sardine')"
   ]
  },
  {
   "cell_type": "code",
   "execution_count": null,
   "metadata": {},
   "outputs": [],
   "source": [
    "def build_user(first, last, **user_info):\n",
    "    \"\"\"Build a dictionary containing everything you know about a user.\"\"\"\n",
    "    profile = {}\n",
    "    profile['first'] = first\n",
    "    profile['last'] = last\n",
    "    for key, value in user_info.items():\n",
    "        profile[key] = value\n",
    "    return profile\n",
    "\n",
    "ninja_profile = build_user('Sasori', 'Akatsuki',\n",
    "                            Origin='Akatsuki Clan',\n",
    "                            Unique_ability='Puppet Master',\n",
    "                            Age='Unknown')\n",
    "print(ninja_profile)"
   ]
  },
  {
   "cell_type": "code",
   "execution_count": null,
   "metadata": {},
   "outputs": [],
   "source": [
    "def make_car(manufacturer, model, **features):\n",
    "    \"\"\"Build a dictionary containing everything you know about a car.\"\"\"\n",
    "    car_profile = {}\n",
    "    car_profile['manufacturer'] = manufacturer\n",
    "    car_profile['model'] = model\n",
    "    for key, value in features.items():\n",
    "        car_profile[key] = value\n",
    "    return car_profile\n",
    "\n",
    "car0x0 = make_car('Toyota', 'Spider', \n",
    "                color='Black', tow_package=True, \n",
    "                year=2020, price='$11,000')\n",
    "print(car0x0)"
   ]
  }
 ],
 "metadata": {
  "kernelspec": {
   "display_name": "Automate_the_boring_stuff",
   "language": "python",
   "name": "python3"
  },
  "language_info": {
   "codemirror_mode": {
    "name": "ipython",
    "version": 3
   },
   "file_extension": ".py",
   "mimetype": "text/x-python",
   "name": "python",
   "nbconvert_exporter": "python",
   "pygments_lexer": "ipython3",
   "version": "3.11.5"
  },
  "orig_nbformat": 4
 },
 "nbformat": 4,
 "nbformat_minor": 2
}
