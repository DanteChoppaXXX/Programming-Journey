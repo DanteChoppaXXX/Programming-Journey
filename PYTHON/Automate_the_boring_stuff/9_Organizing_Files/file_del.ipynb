{
 "cells": [
  {
   "cell_type": "code",
   "execution_count": null,
   "metadata": {},
   "outputs": [],
   "source": [
    "import os\n",
    "import glob\n",
    "p = '/home/sasori/spam/folder2/'\n",
    "\n",
    "for filename in glob.glob(f'{p}*.txt'):\n",
    "    print(filename)\n",
    "    inFolder = '*.txt'\n",
    "    if inFolder in filename:\n",
    "        confirm_delete = input(f'Do you want to delete {filename}? (Y/N)').lower()\n",
    "        \n",
    "    else:\n",
    "        print('Deleting File!')\n",
    "        os.unlink(filename)\n",
    "        print(f\"file: {filename}\")\n",
    "\n"
   ]
  },
  {
   "cell_type": "markdown",
   "metadata": {},
   "source": [
    "## WALKING A DIRECTORY TREE"
   ]
  },
  {
   "cell_type": "code",
   "execution_count": null,
   "metadata": {},
   "outputs": [],
   "source": [
    "import os\n",
    "\n",
    "for folderName, subfolders, filenames in os.walk('/home/sasori/spam/'):\n",
    "    print(f'The current folder is {folderName}')\n",
    "\n",
    "    for subfolder in subfolders:\n",
    "        print(f'SUBFOLDER OF {folderName}: {subfolder}')\n",
    "\n",
    "    for filename in filenames:\n",
    "        print(f'FILE INSIDE {folderName}: {filename}')\n",
    "\n",
    "    print('')"
   ]
  },
  {
   "cell_type": "markdown",
   "metadata": {},
   "source": [
    "## COMPRESSING FILE WITH THE ZIPFILE MODULE."
   ]
  },
  {
   "cell_type": "code",
   "execution_count": 4,
   "metadata": {},
   "outputs": [
    {
     "name": "stdout",
     "output_type": "stream",
     "text": [
      "..\n"
     ]
    }
   ],
   "source": [
    "import zipfile, os\n",
    "from pathlib import Path\n",
    "\n",
    "p = Path('/home/sasori/spam/')\n"
   ]
  }
 ],
 "metadata": {
  "kernelspec": {
   "display_name": "Automate_the_boring_stuff",
   "language": "python",
   "name": "python3"
  },
  "language_info": {
   "codemirror_mode": {
    "name": "ipython",
    "version": 3
   },
   "file_extension": ".py",
   "mimetype": "text/x-python",
   "name": "python",
   "nbconvert_exporter": "python",
   "pygments_lexer": "ipython3",
   "version": "3.11.5"
  },
  "orig_nbformat": 4
 },
 "nbformat": 4,
 "nbformat_minor": 2
}
